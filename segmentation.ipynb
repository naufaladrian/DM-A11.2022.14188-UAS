{
 "cells": [
  {
   "cell_type": "markdown",
   "metadata": {},
   "source": [
    "# Segmentasi Pelanggan Berdasarkan Pola Pembelian Menggunakan Algoritma Clustering"
   ]
  },
  {
   "cell_type": "markdown",
   "metadata": {},
   "source": [
    "- NAMA : M NAUFAL ADRIAN PRATAMA PUTRA\n",
    "- NIM : A11.2022.14188"
   ]
  },
  {
   "cell_type": "markdown",
   "metadata": {},
   "source": [
    "## Ringkasan\n",
    "\n",
    "Dalam bisnis, memahami perilaku pelanggan adalah kunci untuk meningkatkan kepuasan dan retensi pelanggan. Dengan melakukan segmentasi pelanggan, pengelola bisnis dapat mengetahui kelompok pelanggan berdasarkan pola pembelian mereka dan menargetkan setiap segmen dengan strategi pemasaran yang tepat. Eksperimen yang akan dilakukan ini akan menggunakan teknik clustering untuk mengelompokkan pelanggan berdasarkan metrik seperti total pembelian dan frekuensi transaksi.\n",
    "\n",
    "## Permasalahan \n",
    "\n",
    "Bisnis sering mengalami kesulitan dalam memahami perilaku pelanggan secara mendalam, terutama karena data transaksi yang besar dan kompleks. Ketidakmampuan untuk mengidentifikasi perbedaan pola pembelian pelanggan dapat menyebabkan strategi pemasaran yang tidak efektif, rendahnya tingkat kepuasan, serta hilangnya peluang untuk meningkatkan retensi pelanggan dan nilai bisnis.\n",
    "\n",
    "## Tujuan\n",
    "\n",
    "Eksperimen ini bertujuan untuk membagi pelanggan ke dalam beberapa segmen berdasarkan pola pembelian mereka menggunakan teknik clustering. Dengan memahami segmen pelanggan yang paling bernilai, bisnis dapat merancang strategi pemasaran yang lebih personal dan efektif, meningkatkan kepuasan serta retensi pelanggan, sekaligus memaksimalkan pertumbuhan bisnis.\n",
    "\n",
    "## Alur\n",
    "\n",
    "1. **Studi Literatur**  \n",
    "   - Mengumpulkan referensi terkait eksperimen atau project yang serupa  \n",
    "2. **Data Preparation:**  \n",
    "   - Mengecek missing value  \n",
    "   - Mengisi missing value dengan rata-rata, atau menghapus record nya \n",
    "   - Mengonversi tanggal transaksi  \n",
    "3. **Membuat Fitur**:  \n",
    "   - **Recency**: Hari sejak transaksi terakhir.  \n",
    "   - **Frequency**: Jumlah total transaksi per pelanggan.  \n",
    "   - **Monetary**: Total uang yang dibelanjakan per pelanggan.  \n",
    "4. **Modeling:**  \n",
    "   - Memilih jumlah kluster yang optimal   \n",
    "   - Menerapkan kluster pada data.  \n",
    "5. **Visualisasi dan Analisis:**  \n",
    "   - Memvisualisasikan hasil kluster dengan *scatter plot* atau diagram batang.  \n",
    "   - Menganalisis karakteristik tiap kluster (misalnya, kluster mana yang memiliki pelanggan dengan nilai tertinggi?)."
   ]
  },
  {
   "cell_type": "markdown",
   "metadata": {},
   "source": [
    "## Penjelasan Dataset, EDA dan Proses Features Dataset\n",
    "\n",
    "### Penjelasan Dataset\n",
    "\n",
    "Dataset yang digunakan adalah data transaksi retail online yang berisi informasi tentang faktur penjualan, kode produk, deskripsi produk, jumlah, harga satuan, ID pelanggan, dan negara. Dataset ini digunakan untuk melakukan segmentasi pelanggan berdasarkan pola pembelian mereka.\n",
    "\n",
    "### EDA\n",
    "\n",
    "- Memuat Dataset: Dataset dimuat menggunakan `pd.read_csv`\n",
    "- informasi Data: Menggunakan `df.info()` untuk melihat informasi umum tentang dataset seperti jumlah baris, kolom, dan tipe data.\n",
    "- Pembersihan Data\n",
    "    - Menghapus baris yang tidak memiliki `CustomerID`\n",
    "    - Mengonversi kolom `InvoiceDate` menjadi tipe datetime.\n",
    "    - Menghapus transaksi dengan `Quantity <= 0` atau `UnitPrice <= 0`.\n",
    "    - Membuat fitur tambahan `TotalPrice` yang merupakan hasil perkalian `Quantity` dan `UnitPrice`.\n",
    "\n",
    "### Proses Features Dataset\n",
    "- Recency: Mengukur waktu sejak transaksi terakhir pelanggan hingga tanggal referensi.\n",
    "- Frequency: Menghitung jumlah transaksi unik yang dilakukan pelanggan.\n",
    "- Monetary: Mengukur total nilai belanja pelanggan.\n",
    "- Standarisasi Data: Data RFM distandarisasi menggunakan `StandardScaler` untuk memastikan fitur-fitur memiliki pengaruh yang sama dalam algoritma clustering.\n"
   ]
  },
  {
   "cell_type": "markdown",
   "metadata": {},
   "source": [
    "## Proses Learning / Modeling\n",
    "\n",
    "### Elbow\n",
    "- Menggunakan Elbow untuk menentukan jumlah cluster optimal dengan melihat grafik hubungan jumlah cluster (k) terhadap nilai SSE (Sum of Squared Errors)\n",
    "\n",
    "### K-Means Clustering\n",
    "\n",
    "- Menerapkan algoritma K-Means dengan jumlah cluster optimal yang diperoleh dari metode Elbow.\n",
    "- Menambahkan hasil clustering ke dalam dataset RFM."
   ]
  },
  {
   "cell_type": "markdown",
   "metadata": {},
   "source": [
    "## Diskusi Hasil dan Kesimpulan\n",
    "\n",
    "- Hasil clustering menunjukkan bahwa pelanggan dapat dikelompokkan ke dalam beberapa segmen berdasarkan pola pembelian mereka.\n",
    "- Setiap cluster memiliki karakteristik yang berbeda dalam hal recency, frequency, dan monetary.\n",
    "- Visualisasi cluster membantu dalam memahami distribusi dan karakteristik masing-masing cluster"
   ]
  },
  {
   "cell_type": "markdown",
   "metadata": {},
   "source": [
    "### Import lib"
   ]
  },
  {
   "cell_type": "code",
   "execution_count": 1,
   "metadata": {},
   "outputs": [],
   "source": [
    "import pandas as pd\n",
    "import datetime as dt"
   ]
  },
  {
   "cell_type": "markdown",
   "metadata": {},
   "source": [
    "### Load dataset"
   ]
  },
  {
   "cell_type": "code",
   "execution_count": 2,
   "metadata": {},
   "outputs": [
    {
     "data": {
      "text/html": [
       "<div>\n",
       "<style scoped>\n",
       "    .dataframe tbody tr th:only-of-type {\n",
       "        vertical-align: middle;\n",
       "    }\n",
       "\n",
       "    .dataframe tbody tr th {\n",
       "        vertical-align: top;\n",
       "    }\n",
       "\n",
       "    .dataframe thead th {\n",
       "        text-align: right;\n",
       "    }\n",
       "</style>\n",
       "<table border=\"1\" class=\"dataframe\">\n",
       "  <thead>\n",
       "    <tr style=\"text-align: right;\">\n",
       "      <th></th>\n",
       "      <th>InvoiceNo</th>\n",
       "      <th>StockCode</th>\n",
       "      <th>Description</th>\n",
       "      <th>Quantity</th>\n",
       "      <th>InvoiceDate</th>\n",
       "      <th>UnitPrice</th>\n",
       "      <th>CustomerID</th>\n",
       "      <th>Country</th>\n",
       "    </tr>\n",
       "  </thead>\n",
       "  <tbody>\n",
       "    <tr>\n",
       "      <th>0</th>\n",
       "      <td>536365</td>\n",
       "      <td>85123A</td>\n",
       "      <td>WHITE HANGING HEART T-LIGHT HOLDER</td>\n",
       "      <td>6</td>\n",
       "      <td>12/1/2010 8:26</td>\n",
       "      <td>2.55</td>\n",
       "      <td>17850.0</td>\n",
       "      <td>United Kingdom</td>\n",
       "    </tr>\n",
       "    <tr>\n",
       "      <th>1</th>\n",
       "      <td>536365</td>\n",
       "      <td>71053</td>\n",
       "      <td>WHITE METAL LANTERN</td>\n",
       "      <td>6</td>\n",
       "      <td>12/1/2010 8:26</td>\n",
       "      <td>3.39</td>\n",
       "      <td>17850.0</td>\n",
       "      <td>United Kingdom</td>\n",
       "    </tr>\n",
       "    <tr>\n",
       "      <th>2</th>\n",
       "      <td>536365</td>\n",
       "      <td>84406B</td>\n",
       "      <td>CREAM CUPID HEARTS COAT HANGER</td>\n",
       "      <td>8</td>\n",
       "      <td>12/1/2010 8:26</td>\n",
       "      <td>2.75</td>\n",
       "      <td>17850.0</td>\n",
       "      <td>United Kingdom</td>\n",
       "    </tr>\n",
       "    <tr>\n",
       "      <th>3</th>\n",
       "      <td>536365</td>\n",
       "      <td>84029G</td>\n",
       "      <td>KNITTED UNION FLAG HOT WATER BOTTLE</td>\n",
       "      <td>6</td>\n",
       "      <td>12/1/2010 8:26</td>\n",
       "      <td>3.39</td>\n",
       "      <td>17850.0</td>\n",
       "      <td>United Kingdom</td>\n",
       "    </tr>\n",
       "    <tr>\n",
       "      <th>4</th>\n",
       "      <td>536365</td>\n",
       "      <td>84029E</td>\n",
       "      <td>RED WOOLLY HOTTIE WHITE HEART.</td>\n",
       "      <td>6</td>\n",
       "      <td>12/1/2010 8:26</td>\n",
       "      <td>3.39</td>\n",
       "      <td>17850.0</td>\n",
       "      <td>United Kingdom</td>\n",
       "    </tr>\n",
       "  </tbody>\n",
       "</table>\n",
       "</div>"
      ],
      "text/plain": [
       "  InvoiceNo StockCode                          Description  Quantity  \\\n",
       "0    536365    85123A   WHITE HANGING HEART T-LIGHT HOLDER         6   \n",
       "1    536365     71053                  WHITE METAL LANTERN         6   \n",
       "2    536365    84406B       CREAM CUPID HEARTS COAT HANGER         8   \n",
       "3    536365    84029G  KNITTED UNION FLAG HOT WATER BOTTLE         6   \n",
       "4    536365    84029E       RED WOOLLY HOTTIE WHITE HEART.         6   \n",
       "\n",
       "      InvoiceDate  UnitPrice  CustomerID         Country  \n",
       "0  12/1/2010 8:26       2.55     17850.0  United Kingdom  \n",
       "1  12/1/2010 8:26       3.39     17850.0  United Kingdom  \n",
       "2  12/1/2010 8:26       2.75     17850.0  United Kingdom  \n",
       "3  12/1/2010 8:26       3.39     17850.0  United Kingdom  \n",
       "4  12/1/2010 8:26       3.39     17850.0  United Kingdom  "
      ]
     },
     "execution_count": 2,
     "metadata": {},
     "output_type": "execute_result"
    }
   ],
   "source": [
    "df = pd.read_csv(\"Online Retail.csv\")\n",
    "df.head()"
   ]
  },
  {
   "cell_type": "markdown",
   "metadata": {},
   "source": [
    "### Cek informasi data"
   ]
  },
  {
   "cell_type": "code",
   "execution_count": 3,
   "metadata": {},
   "outputs": [
    {
     "name": "stdout",
     "output_type": "stream",
     "text": [
      "<class 'pandas.core.frame.DataFrame'>\n",
      "RangeIndex: 541909 entries, 0 to 541908\n",
      "Data columns (total 8 columns):\n",
      " #   Column       Non-Null Count   Dtype  \n",
      "---  ------       --------------   -----  \n",
      " 0   InvoiceNo    541909 non-null  object \n",
      " 1   StockCode    541909 non-null  object \n",
      " 2   Description  540455 non-null  object \n",
      " 3   Quantity     541909 non-null  int64  \n",
      " 4   InvoiceDate  541909 non-null  object \n",
      " 5   UnitPrice    541909 non-null  float64\n",
      " 6   CustomerID   406829 non-null  float64\n",
      " 7   Country      541909 non-null  object \n",
      "dtypes: float64(2), int64(1), object(5)\n",
      "memory usage: 33.1+ MB\n"
     ]
    }
   ],
   "source": [
    "df.info()"
   ]
  },
  {
   "cell_type": "markdown",
   "metadata": {},
   "source": [
    "### Preparation\n",
    "- Menghapus baris tanpa CustomerID\n",
    "- Konversi InvoiceDate menjadi tipe datetime\n",
    "- Hapus transaksi dengan Quantity <= 0 atau UnitPrice <= 0\n",
    "- Pembuatan fitur tambahan TotalPrice"
   ]
  },
  {
   "cell_type": "code",
   "execution_count": 4,
   "metadata": {},
   "outputs": [
    {
     "name": "stdout",
     "output_type": "stream",
     "text": [
      "<class 'pandas.core.frame.DataFrame'>\n",
      "Index: 406829 entries, 0 to 541908\n",
      "Data columns (total 8 columns):\n",
      " #   Column       Non-Null Count   Dtype  \n",
      "---  ------       --------------   -----  \n",
      " 0   InvoiceNo    406829 non-null  object \n",
      " 1   StockCode    406829 non-null  object \n",
      " 2   Description  406829 non-null  object \n",
      " 3   Quantity     406829 non-null  int64  \n",
      " 4   InvoiceDate  406829 non-null  object \n",
      " 5   UnitPrice    406829 non-null  float64\n",
      " 6   CustomerID   406829 non-null  float64\n",
      " 7   Country      406829 non-null  object \n",
      "dtypes: float64(2), int64(1), object(5)\n",
      "memory usage: 27.9+ MB\n"
     ]
    }
   ],
   "source": [
    "# Menghapus baris yang tidak memiliki CustomerID\n",
    "df = df.dropna(subset=['CustomerID'])\n",
    "df.info()"
   ]
  },
  {
   "cell_type": "code",
   "execution_count": 5,
   "metadata": {},
   "outputs": [
    {
     "name": "stdout",
     "output_type": "stream",
     "text": [
      "<class 'pandas.core.frame.DataFrame'>\n",
      "Index: 406829 entries, 0 to 541908\n",
      "Data columns (total 8 columns):\n",
      " #   Column       Non-Null Count   Dtype         \n",
      "---  ------       --------------   -----         \n",
      " 0   InvoiceNo    406829 non-null  object        \n",
      " 1   StockCode    406829 non-null  object        \n",
      " 2   Description  406829 non-null  object        \n",
      " 3   Quantity     406829 non-null  int64         \n",
      " 4   InvoiceDate  406829 non-null  datetime64[ns]\n",
      " 5   UnitPrice    406829 non-null  float64       \n",
      " 6   CustomerID   406829 non-null  float64       \n",
      " 7   Country      406829 non-null  object        \n",
      "dtypes: datetime64[ns](1), float64(2), int64(1), object(4)\n",
      "memory usage: 27.9+ MB\n"
     ]
    }
   ],
   "source": [
    "# Konversi InvoiceDate ke datetime\n",
    "df['InvoiceDate'] = pd.to_datetime(df['InvoiceDate'])\n",
    "df.info()"
   ]
  },
  {
   "cell_type": "code",
   "execution_count": 6,
   "metadata": {},
   "outputs": [
    {
     "name": "stdout",
     "output_type": "stream",
     "text": [
      "<class 'pandas.core.frame.DataFrame'>\n",
      "Index: 397884 entries, 0 to 541908\n",
      "Data columns (total 8 columns):\n",
      " #   Column       Non-Null Count   Dtype         \n",
      "---  ------       --------------   -----         \n",
      " 0   InvoiceNo    397884 non-null  object        \n",
      " 1   StockCode    397884 non-null  object        \n",
      " 2   Description  397884 non-null  object        \n",
      " 3   Quantity     397884 non-null  int64         \n",
      " 4   InvoiceDate  397884 non-null  datetime64[ns]\n",
      " 5   UnitPrice    397884 non-null  float64       \n",
      " 6   CustomerID   397884 non-null  float64       \n",
      " 7   Country      397884 non-null  object        \n",
      "dtypes: datetime64[ns](1), float64(2), int64(1), object(4)\n",
      "memory usage: 27.3+ MB\n"
     ]
    }
   ],
   "source": [
    "# Buang transaksi yang tidak valid\n",
    "df = df[(df['Quantity'] > 0) & (df['UnitPrice'] > 0)]\n",
    "df.info()"
   ]
  },
  {
   "cell_type": "code",
   "execution_count": 7,
   "metadata": {},
   "outputs": [
    {
     "data": {
      "text/html": [
       "<div>\n",
       "<style scoped>\n",
       "    .dataframe tbody tr th:only-of-type {\n",
       "        vertical-align: middle;\n",
       "    }\n",
       "\n",
       "    .dataframe tbody tr th {\n",
       "        vertical-align: top;\n",
       "    }\n",
       "\n",
       "    .dataframe thead th {\n",
       "        text-align: right;\n",
       "    }\n",
       "</style>\n",
       "<table border=\"1\" class=\"dataframe\">\n",
       "  <thead>\n",
       "    <tr style=\"text-align: right;\">\n",
       "      <th></th>\n",
       "      <th>InvoiceNo</th>\n",
       "      <th>StockCode</th>\n",
       "      <th>Description</th>\n",
       "      <th>Quantity</th>\n",
       "      <th>InvoiceDate</th>\n",
       "      <th>UnitPrice</th>\n",
       "      <th>CustomerID</th>\n",
       "      <th>Country</th>\n",
       "      <th>TotalPrice</th>\n",
       "    </tr>\n",
       "  </thead>\n",
       "  <tbody>\n",
       "    <tr>\n",
       "      <th>0</th>\n",
       "      <td>536365</td>\n",
       "      <td>85123A</td>\n",
       "      <td>WHITE HANGING HEART T-LIGHT HOLDER</td>\n",
       "      <td>6</td>\n",
       "      <td>2010-12-01 08:26:00</td>\n",
       "      <td>2.55</td>\n",
       "      <td>17850.0</td>\n",
       "      <td>United Kingdom</td>\n",
       "      <td>15.30</td>\n",
       "    </tr>\n",
       "    <tr>\n",
       "      <th>1</th>\n",
       "      <td>536365</td>\n",
       "      <td>71053</td>\n",
       "      <td>WHITE METAL LANTERN</td>\n",
       "      <td>6</td>\n",
       "      <td>2010-12-01 08:26:00</td>\n",
       "      <td>3.39</td>\n",
       "      <td>17850.0</td>\n",
       "      <td>United Kingdom</td>\n",
       "      <td>20.34</td>\n",
       "    </tr>\n",
       "    <tr>\n",
       "      <th>2</th>\n",
       "      <td>536365</td>\n",
       "      <td>84406B</td>\n",
       "      <td>CREAM CUPID HEARTS COAT HANGER</td>\n",
       "      <td>8</td>\n",
       "      <td>2010-12-01 08:26:00</td>\n",
       "      <td>2.75</td>\n",
       "      <td>17850.0</td>\n",
       "      <td>United Kingdom</td>\n",
       "      <td>22.00</td>\n",
       "    </tr>\n",
       "    <tr>\n",
       "      <th>3</th>\n",
       "      <td>536365</td>\n",
       "      <td>84029G</td>\n",
       "      <td>KNITTED UNION FLAG HOT WATER BOTTLE</td>\n",
       "      <td>6</td>\n",
       "      <td>2010-12-01 08:26:00</td>\n",
       "      <td>3.39</td>\n",
       "      <td>17850.0</td>\n",
       "      <td>United Kingdom</td>\n",
       "      <td>20.34</td>\n",
       "    </tr>\n",
       "    <tr>\n",
       "      <th>4</th>\n",
       "      <td>536365</td>\n",
       "      <td>84029E</td>\n",
       "      <td>RED WOOLLY HOTTIE WHITE HEART.</td>\n",
       "      <td>6</td>\n",
       "      <td>2010-12-01 08:26:00</td>\n",
       "      <td>3.39</td>\n",
       "      <td>17850.0</td>\n",
       "      <td>United Kingdom</td>\n",
       "      <td>20.34</td>\n",
       "    </tr>\n",
       "  </tbody>\n",
       "</table>\n",
       "</div>"
      ],
      "text/plain": [
       "  InvoiceNo StockCode                          Description  Quantity  \\\n",
       "0    536365    85123A   WHITE HANGING HEART T-LIGHT HOLDER         6   \n",
       "1    536365     71053                  WHITE METAL LANTERN         6   \n",
       "2    536365    84406B       CREAM CUPID HEARTS COAT HANGER         8   \n",
       "3    536365    84029G  KNITTED UNION FLAG HOT WATER BOTTLE         6   \n",
       "4    536365    84029E       RED WOOLLY HOTTIE WHITE HEART.         6   \n",
       "\n",
       "          InvoiceDate  UnitPrice  CustomerID         Country  TotalPrice  \n",
       "0 2010-12-01 08:26:00       2.55     17850.0  United Kingdom       15.30  \n",
       "1 2010-12-01 08:26:00       3.39     17850.0  United Kingdom       20.34  \n",
       "2 2010-12-01 08:26:00       2.75     17850.0  United Kingdom       22.00  \n",
       "3 2010-12-01 08:26:00       3.39     17850.0  United Kingdom       20.34  \n",
       "4 2010-12-01 08:26:00       3.39     17850.0  United Kingdom       20.34  "
      ]
     },
     "execution_count": 7,
     "metadata": {},
     "output_type": "execute_result"
    }
   ],
   "source": [
    "# Buat fitur baru untuk total harga\n",
    "df['TotalPrice'] = df['Quantity'] * df['UnitPrice']\n",
    "df.head()"
   ]
  },
  {
   "cell_type": "markdown",
   "metadata": {},
   "source": [
    "## Membuat Fitur Recency, Frequency, dan Monetary"
   ]
  },
  {
   "cell_type": "markdown",
   "metadata": {},
   "source": [
    "### Recency\n",
    "\n",
    "Recency mengukur waktu sejak transaksi terakhir pelanggan hingga tanggal referensi.\n",
    "Langkah:\n",
    "- Tetapkan tanggal referensi sebagai hari setelah transaksi terakhir\n",
    "- Hitung selisih hari antara tanggal referensi dan transaksi terakhir setiap pelanggan."
   ]
  },
  {
   "cell_type": "code",
   "execution_count": 8,
   "metadata": {},
   "outputs": [],
   "source": [
    "# Tetapkan tanggal referensi\n",
    "reference_date = df['InvoiceDate'].max() + dt.timedelta(days=1)\n",
    "\n",
    "# Hitung Recency\n",
    "recency = df.groupby('CustomerID')['InvoiceDate'].max().reset_index()\n",
    "recency['Recency'] = (reference_date - recency['InvoiceDate']).dt.days"
   ]
  },
  {
   "cell_type": "markdown",
   "metadata": {},
   "source": [
    "### Frequency\n",
    "Frequency adalah jumlah transaksi unik yang dilakukan pelanggan.\n",
    "Langkah:\n",
    "- Hitung jumlah faktur unik (InvoiceNo) per pelanggan."
   ]
  },
  {
   "cell_type": "code",
   "execution_count": 9,
   "metadata": {},
   "outputs": [],
   "source": [
    "frequency = df.groupby('CustomerID')['InvoiceNo'].nunique().reset_index()\n",
    "frequency.rename(columns={'InvoiceNo': 'Frequency'}, inplace=True)"
   ]
  },
  {
   "cell_type": "markdown",
   "metadata": {},
   "source": [
    "### Monetary\n",
    "Monetary mengukur total nilai belanja pelanggan.\n",
    "Langkah:\n",
    "- Kalikan Quantity dengan UnitPrice untuk setiap transaksi.\n",
    "- Hitung total nilai belanja per pelanggan."
   ]
  },
  {
   "cell_type": "code",
   "execution_count": 10,
   "metadata": {},
   "outputs": [],
   "source": [
    "df['TotalPrice'] = df['Quantity'] * df['UnitPrice']\n",
    "monetary = df.groupby('CustomerID')['TotalPrice'].sum().reset_index()\n",
    "monetary.rename(columns={'TotalPrice': 'Monetary'}, inplace=True)"
   ]
  },
  {
   "cell_type": "markdown",
   "metadata": {},
   "source": [
    "### Gabung ketiga fitur"
   ]
  },
  {
   "cell_type": "code",
   "execution_count": 11,
   "metadata": {},
   "outputs": [
    {
     "data": {
      "text/html": [
       "<div>\n",
       "<style scoped>\n",
       "    .dataframe tbody tr th:only-of-type {\n",
       "        vertical-align: middle;\n",
       "    }\n",
       "\n",
       "    .dataframe tbody tr th {\n",
       "        vertical-align: top;\n",
       "    }\n",
       "\n",
       "    .dataframe thead th {\n",
       "        text-align: right;\n",
       "    }\n",
       "</style>\n",
       "<table border=\"1\" class=\"dataframe\">\n",
       "  <thead>\n",
       "    <tr style=\"text-align: right;\">\n",
       "      <th></th>\n",
       "      <th>CustomerID</th>\n",
       "      <th>InvoiceDate</th>\n",
       "      <th>Recency</th>\n",
       "      <th>Frequency</th>\n",
       "      <th>Monetary</th>\n",
       "    </tr>\n",
       "  </thead>\n",
       "  <tbody>\n",
       "    <tr>\n",
       "      <th>0</th>\n",
       "      <td>12346.0</td>\n",
       "      <td>2011-01-18 10:01:00</td>\n",
       "      <td>326</td>\n",
       "      <td>1</td>\n",
       "      <td>77183.60</td>\n",
       "    </tr>\n",
       "    <tr>\n",
       "      <th>1</th>\n",
       "      <td>12347.0</td>\n",
       "      <td>2011-12-07 15:52:00</td>\n",
       "      <td>2</td>\n",
       "      <td>7</td>\n",
       "      <td>4310.00</td>\n",
       "    </tr>\n",
       "    <tr>\n",
       "      <th>2</th>\n",
       "      <td>12348.0</td>\n",
       "      <td>2011-09-25 13:13:00</td>\n",
       "      <td>75</td>\n",
       "      <td>4</td>\n",
       "      <td>1797.24</td>\n",
       "    </tr>\n",
       "    <tr>\n",
       "      <th>3</th>\n",
       "      <td>12349.0</td>\n",
       "      <td>2011-11-21 09:51:00</td>\n",
       "      <td>19</td>\n",
       "      <td>1</td>\n",
       "      <td>1757.55</td>\n",
       "    </tr>\n",
       "    <tr>\n",
       "      <th>4</th>\n",
       "      <td>12350.0</td>\n",
       "      <td>2011-02-02 16:01:00</td>\n",
       "      <td>310</td>\n",
       "      <td>1</td>\n",
       "      <td>334.40</td>\n",
       "    </tr>\n",
       "  </tbody>\n",
       "</table>\n",
       "</div>"
      ],
      "text/plain": [
       "   CustomerID         InvoiceDate  Recency  Frequency  Monetary\n",
       "0     12346.0 2011-01-18 10:01:00      326          1  77183.60\n",
       "1     12347.0 2011-12-07 15:52:00        2          7   4310.00\n",
       "2     12348.0 2011-09-25 13:13:00       75          4   1797.24\n",
       "3     12349.0 2011-11-21 09:51:00       19          1   1757.55\n",
       "4     12350.0 2011-02-02 16:01:00      310          1    334.40"
      ]
     },
     "execution_count": 11,
     "metadata": {},
     "output_type": "execute_result"
    }
   ],
   "source": [
    "rfm = recency.merge(frequency, on='CustomerID').merge(monetary, on='CustomerID')\n",
    "\n",
    "rfm.head()"
   ]
  },
  {
   "cell_type": "markdown",
   "metadata": {},
   "source": [
    "## Tahapan Modeling"
   ]
  },
  {
   "cell_type": "markdown",
   "metadata": {},
   "source": [
    "### Standarisasi Data RFM\n",
    "- Data RFM biasanya memiliki skala yang berbeda (misalnya, Monetary bernilai jauh lebih besar dibanding Recency). Untuk memastikan fitur-fitur memiliki pengaruh yang sama dalam algoritma clustering, data perlu distandarisasi."
   ]
  },
  {
   "cell_type": "code",
   "execution_count": 12,
   "metadata": {},
   "outputs": [
    {
     "data": {
      "text/html": [
       "<div>\n",
       "<style scoped>\n",
       "    .dataframe tbody tr th:only-of-type {\n",
       "        vertical-align: middle;\n",
       "    }\n",
       "\n",
       "    .dataframe tbody tr th {\n",
       "        vertical-align: top;\n",
       "    }\n",
       "\n",
       "    .dataframe thead th {\n",
       "        text-align: right;\n",
       "    }\n",
       "</style>\n",
       "<table border=\"1\" class=\"dataframe\">\n",
       "  <thead>\n",
       "    <tr style=\"text-align: right;\">\n",
       "      <th></th>\n",
       "      <th>Recency</th>\n",
       "      <th>Frequency</th>\n",
       "      <th>Monetary</th>\n",
       "    </tr>\n",
       "  </thead>\n",
       "  <tbody>\n",
       "    <tr>\n",
       "      <th>0</th>\n",
       "      <td>2.334574</td>\n",
       "      <td>-0.425097</td>\n",
       "      <td>8.358668</td>\n",
       "    </tr>\n",
       "    <tr>\n",
       "      <th>1</th>\n",
       "      <td>-0.905340</td>\n",
       "      <td>0.354417</td>\n",
       "      <td>0.250966</td>\n",
       "    </tr>\n",
       "    <tr>\n",
       "      <th>2</th>\n",
       "      <td>-0.175360</td>\n",
       "      <td>-0.035340</td>\n",
       "      <td>-0.028596</td>\n",
       "    </tr>\n",
       "    <tr>\n",
       "      <th>3</th>\n",
       "      <td>-0.735345</td>\n",
       "      <td>-0.425097</td>\n",
       "      <td>-0.033012</td>\n",
       "    </tr>\n",
       "    <tr>\n",
       "      <th>4</th>\n",
       "      <td>2.174578</td>\n",
       "      <td>-0.425097</td>\n",
       "      <td>-0.191347</td>\n",
       "    </tr>\n",
       "  </tbody>\n",
       "</table>\n",
       "</div>"
      ],
      "text/plain": [
       "    Recency  Frequency  Monetary\n",
       "0  2.334574  -0.425097  8.358668\n",
       "1 -0.905340   0.354417  0.250966\n",
       "2 -0.175360  -0.035340 -0.028596\n",
       "3 -0.735345  -0.425097 -0.033012\n",
       "4  2.174578  -0.425097 -0.191347"
      ]
     },
     "execution_count": 12,
     "metadata": {},
     "output_type": "execute_result"
    }
   ],
   "source": [
    "from sklearn.preprocessing import StandardScaler\n",
    "\n",
    "scaler = StandardScaler()\n",
    "rfm_scaled = scaler.fit_transform(rfm[['Recency', 'Frequency', 'Monetary']])\n",
    "\n",
    "# show the scaled data\n",
    "show_rfm_scaled = pd.DataFrame(rfm_scaled, columns=['Recency', 'Frequency', 'Monetary'])\n",
    "show_rfm_scaled.head()"
   ]
  },
  {
   "cell_type": "markdown",
   "metadata": {},
   "source": [
    "### Tentukan Jumlah Cluster dengan Metode Elbow\n",
    "\n",
    "- Gunakan metode Elbow untuk menentukan jumlah cluster optimal. Hal ini dilakukan dengan melihat grafik hubungan jumlah cluster (k) terhadap nilai SSE (Sum of Squared Errors). Kode untuk melakukannya:"
   ]
  },
  {
   "cell_type": "code",
   "execution_count": 13,
   "metadata": {},
   "outputs": [
    {
     "data": {
      "image/png": "[encoded data removed]",
      "text/plain": [
       "<Figure size 1000x600 with 1 Axes>"
      ]
     },
     "metadata": {},
     "output_type": "display_data"
    }
   ],
   "source": [
    "from sklearn.cluster import KMeans\n",
    "import matplotlib.pyplot as plt\n",
    "\n",
    "sse = []\n",
    "for k in range(1, 11):  # mencoba 1 hingga 10 cluster\n",
    "    kmeans = KMeans(n_clusters=k, random_state=42)\n",
    "    kmeans.fit(rfm_scaled)\n",
    "    sse.append(kmeans.inertia_)\n",
    "\n",
    "# Plot Elbow Method\n",
    "plt.figure(figsize=(10, 6))\n",
    "plt.plot(range(1, 11), sse, marker='o')\n",
    "plt.xlabel('Number of Clusters (k)')\n",
    "plt.ylabel('SSE')\n",
    "plt.title('Elbow Method')\n",
    "plt.show()"
   ]
  },
  {
   "cell_type": "markdown",
   "metadata": {},
   "source": [
    "### Menerapkan K-Means clusterig"
   ]
  },
  {
   "cell_type": "code",
   "execution_count": 14,
   "metadata": {},
   "outputs": [
    {
     "name": "stdout",
     "output_type": "stream",
     "text": [
      "   CustomerID         InvoiceDate  Recency  Frequency  Monetary  Cluster\n",
      "0     12346.0 2011-01-18 10:01:00      326          1  77183.60        3\n",
      "1     12347.0 2011-12-07 15:52:00        2          7   4310.00        0\n",
      "2     12348.0 2011-09-25 13:13:00       75          4   1797.24        0\n",
      "3     12349.0 2011-11-21 09:51:00       19          1   1757.55        0\n",
      "4     12350.0 2011-02-02 16:01:00      310          1    334.40        1\n"
     ]
    }
   ],
   "source": [
    "# Terapkan K-Means dengan jumlah cluster optimal\n",
    "optimal_clusters = 4  # ganti sesuai hasil Elbow\n",
    "kmeans = KMeans(n_clusters=optimal_clusters, random_state=42)\n",
    "rfm['Cluster'] = kmeans.fit_predict(rfm_scaled)\n",
    "\n",
    "# Lihat hasil clustering\n",
    "print(rfm.head())\n"
   ]
  },
  {
   "cell_type": "markdown",
   "metadata": {},
   "source": [
    "### Analisis Karatkeristik cluster"
   ]
  },
  {
   "cell_type": "code",
   "execution_count": 15,
   "metadata": {},
   "outputs": [
    {
     "name": "stdout",
     "output_type": "stream",
     "text": [
      "           CustomerID                   InvoiceDate     Recency  Frequency  \\\n",
      "Cluster                                                                      \n",
      "0        15289.128356 2011-10-27 07:26:34.656188672   43.702685   3.682711   \n",
      "1        15347.791940 2011-04-05 22:57:46.223055360  248.075914   1.552015   \n",
      "2        15435.000000 2011-12-02 21:04:55.384615424    7.384615  82.538462   \n",
      "3        15212.857843 2011-11-24 14:01:51.764705792   15.500000  22.333333   \n",
      "\n",
      "              Monetary  \n",
      "Cluster                 \n",
      "0          1359.049284  \n",
      "1           480.617480  \n",
      "2        127338.313846  \n",
      "3         12709.090490  \n"
     ]
    }
   ],
   "source": [
    "# Hitung rata-rata nilai RFM di setiap cluster\n",
    "cluster_analysis = rfm.groupby('Cluster').mean()\n",
    "print(cluster_analysis)\n"
   ]
  },
  {
   "cell_type": "markdown",
   "metadata": {},
   "source": [
    "### Visualisasi Cluster"
   ]
  },
  {
   "cell_type": "code",
   "execution_count": 16,
   "metadata": {},
   "outputs": [
    {
     "data": {
      "image/png": "[encoded data removed]",
      "text/plain": [
       "<Figure size 640x480 with 1 Axes>"
      ]
     },
     "metadata": {},
     "output_type": "display_data"
    }
   ],
   "source": [
    "import seaborn as sns\n",
    "import matplotlib.pyplot as plt\n",
    "\n",
    "# Visualisasi Frequency vs Monetary dengan cluster\n",
    "sns.scatterplot(\n",
    "    x=rfm['Frequency'], \n",
    "    y=rfm['Monetary'], \n",
    "    hue=rfm['Cluster'], \n",
    "    palette='viridis'\n",
    ")\n",
    "plt.title('Cluster Visualization (Frequency vs Monetary)')\n",
    "plt.show()"
   ]
  }
 ],
 "metadata": {
  "kernelspec": {
   "display_name": "Python 3",
   "language": "python",
   "name": "python3"
  },
  "language_info": {
   "codemirror_mode": {
    "name": "ipython",
    "version": 3
   },
   "file_extension": ".py",
   "mimetype": "text/x-python",
   "name": "python",
   "nbconvert_exporter": "python",
   "pygments_lexer": "ipython3",
   "version": "3.12.7"
  }
 },
 "nbformat": 4,
 "nbformat_minor": 2
}
